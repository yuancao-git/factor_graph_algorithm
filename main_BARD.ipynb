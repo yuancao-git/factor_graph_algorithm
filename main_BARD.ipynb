{
 "cells": [
  {
   "cell_type": "code",
   "execution_count": null,
   "id": "f6dbed50-ec35-4776-8c30-3640f20b7495",
   "metadata": {},
   "outputs": [],
   "source": [
    "from pgmpy.inference import BeliefPropagation, VariableElimination\n",
    "def prob_pgmpy(model, target, evidence):\n",
    "  \"\"\" Compute the probability of target given evidence\n",
    "  \"\"\"\n",
    "  target_node, target_outcome = target\n",
    "  belief_propagation = VariableElimination(model)\n",
    "  result = belief_propagation.query(variables=[target_node], \n",
    "                                    evidence = evidence, \n",
    "                                    show_progress=True)\n",
    "  p = result.get_value(**{target_node:target_outcome})\n",
    "  return p"
   ]
  },
  {
   "cell_type": "code",
   "execution_count": 4,
   "id": "edcb3938-0227-4666-8e17-d9522a32b1fe",
   "metadata": {
    "scrolled": true
   },
   "outputs": [
    {
     "name": "stdout",
     "output_type": "stream",
     "text": [
      "We have observed that Quinns is False.\n",
      "That Quinns is False is evidence that Spider is True (weak 0.10008343850685929 inference).\n",
      "\n",
      "We have observed that Quinns is False.\n",
      "That Quinns is False is evidence that Both is False or Both is True (certain inf inference).\n",
      "That Both is False or Both is True is evidence that Spider is False or Spider is True (certain inf inference).\n",
      "\n"
     ]
    }
   ],
   "source": [
    "from explainbn.arguments import all_local_arguments\n",
    "from explainbn.explanations import explain_argument\n",
    "from pgmpy.readwrite import XMLBIFReader\n",
    "reader = XMLBIFReader(\"spider.xml\")\n",
    "model = reader.get_model()\n",
    "\n",
    "target = ('Spider','False')\n",
    "evidence = {'Quinns':'False'}\n",
    "\n",
    "\n",
    "# Find all arguments\n",
    "arguments = all_local_arguments(model, target, evidence)\n",
    "\n",
    "# Generate a textual explanation of each argument\n",
    "for argument in arguments:\n",
    "  explanation = explain_argument(model, argument)\n",
    "  print(explanation)\n",
    "  print(\"\")"
   ]
  },
  {
   "cell_type": "code",
   "execution_count": null,
   "id": "c6198997-8e68-4769-92e0-14557bd6c80e",
   "metadata": {},
   "outputs": [],
   "source": [
    "argument = arguments[4]\n",
    "explanation = explain_argument(model, argument, mode='overview')\n",
    "print(explanation)"
   ]
  },
  {
   "cell_type": "code",
   "execution_count": null,
   "id": "0c65891c-701e-4d0d-8e9b-6cde0023fd99",
   "metadata": {},
   "outputs": [],
   "source": [
    "argument.nodes()"
   ]
  },
  {
   "cell_type": "code",
   "execution_count": null,
   "id": "9791880e-d0c8-484e-b0c4-ba38687e6b86",
   "metadata": {},
   "outputs": [],
   "source": [
    "argument.edges()"
   ]
  },
  {
   "cell_type": "code",
   "execution_count": null,
   "id": "9fadeeb9-1726-4794-a022-44aa27fcba1a",
   "metadata": {},
   "outputs": [],
   "source": [
    "argument.effects['Spider'].values"
   ]
  },
  {
   "cell_type": "code",
   "execution_count": null,
   "id": "0bc0ebfa-2457-488e-81cd-02d27f13a874",
   "metadata": {},
   "outputs": [],
   "source": [
    "expl = explain_argument(model, argument)\n",
    "print(expl)"
   ]
  },
  {
   "cell_type": "code",
   "execution_count": null,
   "id": "b17d2617-3352-4883-a34c-c7cfc11cd622",
   "metadata": {},
   "outputs": [],
   "source": [
    "#target = ('Both','True')\n",
    "#evidence = {'Emersons': 'False','Quinns':'False', 'Sawyer': 'True', 'Winter': 'True', 'Alpha': 'True'}\n",
    "p = prob_pgmpy(model,target,evidence)"
   ]
  },
  {
   "cell_type": "code",
   "execution_count": null,
   "id": "880d9ab0-3a41-415c-b616-a68fcc84a49e",
   "metadata": {},
   "outputs": [],
   "source": [
    "p"
   ]
  },
  {
   "cell_type": "code",
   "execution_count": null,
   "id": "7641ce89-85b3-47f3-a358-5770758c1e10",
   "metadata": {},
   "outputs": [],
   "source": [
    "argument = arguments[1]\n",
    "explanation = explain_argument(model, argument, mode='overview')\n",
    "\n",
    "from explainbn.explanations import explain_evidence\n",
    "argument_effect = argument.effects[argument.target[0]]\n",
    "conclusion_description, strength_qualifier = explain_evidence(model, argument_effect)\n",
    "\n",
    "from explainbn.utilities import factor_to_outcomes\n",
    "outcomes, strength = factor_to_outcomes(argument_effect, threshold=0.001)"
   ]
  },
  {
   "cell_type": "code",
   "execution_count": null,
   "id": "e63550fa-054d-4aa3-9c07-021a26aaf911",
   "metadata": {},
   "outputs": [],
   "source": [
    "strength"
   ]
  },
  {
   "cell_type": "code",
   "execution_count": null,
   "id": "d404ab89-e7cf-4559-a9e5-4ac0fbf100cc",
   "metadata": {},
   "outputs": [],
   "source": [
    "from functools import reduce\n",
    "from itertools import combinations\n",
    "import networkx as nx\n",
    "import numpy as np\n",
    "from explainbn.arguments import compute_argument_effects,all_simple_arguments,compute_argument_strength\n",
    "from explainbn.utilities import (\n",
    "  desextremize, \n",
    "  init_factor, \n",
    "  get_factor_from_scope, \n",
    "  factor_to_logodds, \n",
    "  to_factor_graph, \n",
    "  factor_distance, \n",
    "  make_argument_from_stack, \n",
    "  compose_arguments, \n",
    "  iterate_argument, \n",
    "  is_subargument, \n",
    "  limited_powerset, \n",
    "  partitions,\n",
    "  random_evidence,\n",
    "  random_outcome,\n",
    "  )\n",
    "\n",
    "target = ('Spider','True')\n",
    "evidence = {'Emersons': 'False','Quinns': 'False'}\n",
    "\n",
    "dependence_threshold = 0.1\n",
    "path_length_limit = None\n",
    "argument_complexity_limit = None\n",
    "\n",
    "target_node, target_state = target\n",
    "\n",
    "simple_arguments = \\\n",
    "all_simple_arguments(model, target, evidence, \n",
    "                     path_length_limit)\n",
    "\n",
    "proper_arguments = {} # map of argument edge hashes \n",
    "                    # to arguments with cached effects\n",
    "\n",
    "if argument_complexity_limit is None:\n",
    "    argument_complexity_limit = len(simple_arguments)\n",
    "\n",
    "for components in limited_powerset(simple_arguments, \n",
    "                                 argument_complexity_limit):\n",
    "# Skip empty set of components\n",
    "    if len(components) == 0: continue\n",
    "\n",
    "# Compute the union of the components\n",
    "    argument = compose_arguments(components)\n",
    "\n",
    "# The union of components cannot contain loops\n",
    "    if len(list(nx.simple_cycles(argument))) > 0:\n",
    "        continue\n",
    "    \n",
    "    # Compute the effects of the union of components\n",
    "    argument = compute_argument_effects(model, argument)\n",
    "    total_effect = argument.effects[target_node]\n",
    "    \n",
    "    # Try to find a partition of the components\n",
    "    # such that the effect of the total argument\n",
    "    # equals the effect of the union of subarguments\n",
    "    # formed by each group in the partition \n",
    "    components = list(components)\n",
    "    for partition in partitions(components):\n",
    "      \n",
    "      # Skip trivial partition\n",
    "        if len(partition) == 1: continue\n",
    "    \n",
    "        subarguments = [compose_arguments(subargument_components) \n",
    "                      for subargument_components in partition]\n",
    "      \n",
    "      # We retrieve the cached effects\n",
    "        try:\n",
    "            subarguments = \\\n",
    "          [proper_arguments[frozenset(subargument.edges)]\n",
    "           for subargument in subarguments]\n",
    "        except KeyError:\n",
    "        # If a subargument is not in the cache is not proper.\n",
    "        # We only need to check for combinations of \n",
    "        # proper subarguments\n",
    "            continue\n",
    "    \n",
    "        subargument_effects = [subargument.effects[target_node] \n",
    "                              for subargument in subarguments]\n",
    "    \n",
    "        product_of_effects = reduce(lambda e1, e2 : e1*e2, \n",
    "                                  subargument_effects)\n",
    "      \n",
    "      # If the effect of the composite argument is the same as \n",
    "      # the subarguments then the argument is not proper\n",
    "        if factor_distance(total_effect, product_of_effects) < \\\n",
    "           dependence_threshold:\n",
    "            break\n",
    "    else:\n",
    "  # If no partition can emulate the effect of the argument\n",
    "  # Add the argument to the set of proper arguments\n",
    "        proper_arguments[frozenset(argument.edges)] = argument\n",
    "\n",
    "arguments = proper_arguments.values()\n",
    "\n",
    "# Filter non-maximal arguments\n",
    "maximal_arguments = []\n",
    "for arg1 in arguments:\n",
    "    for arg2 in arguments:\n",
    "        if arg1 == arg2: continue\n",
    "        if is_subargument(arg1, arg2):\n",
    "            break\n",
    "    else:\n",
    "        maximal_arguments.append(arg1)\n",
    "arguments = maximal_arguments\n",
    "\n",
    "# Combine non-independent pairs of arguments\n",
    "# until all arguments are pairwise independent\n",
    "refinement_is_possible = True\n",
    "while refinement_is_possible:\n",
    "    refinement_is_possible = False\n",
    "    for arg1, arg2 in combinations(arguments,2):\n",
    "\n",
    "        composite_argument = compose_arguments([arg1, arg2])\n",
    "\n",
    "  # The union of components cannot contain loops\n",
    "        if len(list(nx.simple_cycles(composite_argument))) > 0:\n",
    "            continue\n",
    "\n",
    "        composite_argument = \\\n",
    "    compute_argument_effects(model, composite_argument)\n",
    "  \n",
    "        try:\n",
    "            composite_effect = composite_argument.effects[target_node]\n",
    "        except KeyError:\n",
    "            print([arg1, arg2, composite_argument])\n",
    "\n",
    "        effect_product = \\\n",
    "    arg1.effects[target_node] * arg2.effects[target_node]\n",
    "\n",
    "        if factor_distance(composite_effect, effect_product) > \\\n",
    "        dependence_threshold:\n",
    "            arguments.remove(arg1)\n",
    "            arguments.remove(arg2)\n",
    "            arguments.append(composite_argument)\n",
    "            refinement_is_possible = True\n",
    "            break\n",
    "\n",
    "# Order arguments by decreasing absolute strength\n",
    "arguments.sort(key=lambda arg : \n",
    "                 abs(compute_argument_strength(model, arg)), \n",
    "             reverse=True)"
   ]
  },
  {
   "cell_type": "code",
   "execution_count": null,
   "id": "7d819d2b-c91e-4bce-9489-61a856a2b142",
   "metadata": {},
   "outputs": [],
   "source": [
    "arguments[0].effects['Spider'].values"
   ]
  },
  {
   "cell_type": "code",
   "execution_count": null,
   "id": "1e06140e-6156-4846-b1e0-a35cab60bc88",
   "metadata": {},
   "outputs": [],
   "source": [
    "arguments[3].effects['Spider'].values"
   ]
  },
  {
   "cell_type": "code",
   "execution_count": null,
   "id": "37abca25-8578-47b2-90d0-cf5172acf778",
   "metadata": {},
   "outputs": [],
   "source": [
    "arguments[3].nodes()"
   ]
  },
  {
   "cell_type": "code",
   "execution_count": null,
   "id": "697bc711-e0ae-4fe0-bce7-296c9a4e42d4",
   "metadata": {},
   "outputs": [],
   "source": [
    "print(\"Nodes: \", model.nodes())\n",
    "print(\"Edges: \", model.edges())\n",
    "model.get_cpds()"
   ]
  },
  {
   "cell_type": "code",
   "execution_count": null,
   "id": "0b48db9d-ee14-4d99-aea9-b29c8d2cf033",
   "metadata": {},
   "outputs": [],
   "source": [
    "model.nodes().values()"
   ]
  },
  {
   "cell_type": "code",
   "execution_count": null,
   "id": "35b3bcf9-6268-4ddd-99ba-71507ca8768b",
   "metadata": {},
   "outputs": [],
   "source": [
    "argument.effects['Spider']"
   ]
  },
  {
   "cell_type": "code",
   "execution_count": null,
   "id": "6158dc0a-319c-40bd-bf3b-97442120445e",
   "metadata": {},
   "outputs": [],
   "source": []
  }
 ],
 "metadata": {
  "kernelspec": {
   "display_name": "venv",
   "language": "python",
   "name": "venv"
  },
  "language_info": {
   "codemirror_mode": {
    "name": "ipython",
    "version": 3
   },
   "file_extension": ".py",
   "mimetype": "text/x-python",
   "name": "python",
   "nbconvert_exporter": "python",
   "pygments_lexer": "ipython3",
   "version": "3.8.10"
  }
 },
 "nbformat": 4,
 "nbformat_minor": 5
}
