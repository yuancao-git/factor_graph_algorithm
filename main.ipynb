{
 "cells": [
  {
   "cell_type": "code",
   "execution_count": 4,
   "id": "edcb3938-0227-4666-8e17-d9522a32b1fe",
   "metadata": {
    "scrolled": true
   },
   "outputs": [
    {
     "name": "stdout",
     "output_type": "stream",
     "text": [
      "We have observed that Quinns is False.\n",
      "That Quinns is False is evidence that Spider is True (weak 0.10008343850685929 inference).\n",
      "\n",
      "We have observed that Quinns is False.\n",
      "That Quinns is False is evidence that Both is False or Both is True (certain inf inference).\n",
      "That Both is False or Both is True is evidence that Spider is False or Spider is True (certain inf inference).\n",
      "\n"
     ]
    }
   ],
   "source": [
    "from explainbn.arguments import all_local_arguments\n",
    "from explainbn.explanations import explain_argument\n",
    "from pgmpy.readwrite import XMLBIFReader\n",
    "reader = XMLBIFReader(\"spider.xml\")\n",
    "model = reader.get_model()\n",
    "\n",
    "target = ('Spider','False')\n",
    "evidence = {'Quinns':'False'}\n",
    "\n",
    "\n",
    "# Find all arguments\n",
    "arguments = all_local_arguments(model, target, evidence)\n",
    "\n",
    "# Generate a textual explanation of each argument\n",
    "for argument in arguments:\n",
    "  explanation = explain_argument(model, argument)\n",
    "  print(explanation)\n",
    "  print(\"\")"
   ]
  }
 ],
 "metadata": {
  "kernelspec": {
   "display_name": "venv",
   "language": "python",
   "name": "venv"
  },
  "language_info": {
   "codemirror_mode": {
    "name": "ipython",
    "version": 3
   },
   "file_extension": ".py",
   "mimetype": "text/x-python",
   "name": "python",
   "nbconvert_exporter": "python",
   "pygments_lexer": "ipython3",
   "version": "3.8.10"
  }
 },
 "nbformat": 4,
 "nbformat_minor": 5
}
